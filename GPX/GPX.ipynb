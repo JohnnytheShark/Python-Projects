{
 "cells": [
  {
   "cell_type": "code",
   "execution_count": 5,
   "metadata": {},
   "outputs": [],
   "source": [
    "import gpxpy\n",
    "import json\n",
    "\n",
    "class GPXtoJSONConverter:\n",
    "    '''Class based component used as a tool to convert GPX files into JSON for frontends'''\n",
    "    def __init__(self, gpx_file):\n",
    "        self.gpx_file = gpx_file\n",
    "        self.gpx_data = gpxpy.parse(open(gpx_file,'r'))\n",
    "        self.data = {\n",
    "            'waypoints':[],\n",
    "            'tracks':[],\n",
    "            'routes':[]\n",
    "        }\n",
    "\n",
    "    def extract_data(self):\n",
    "            for waypoint in self.gpx_data.waypoints:\n",
    "                self.data['waypoints'].append({\n",
    "                    'name': waypoint.name,\n",
    "                    'latitude': waypoint.latitude,\n",
    "                    'longitude': waypoint.longitude,\n",
    "                    'elevation': waypoint.elevation,\n",
    "                    'time': waypoint.time.isoformat() if waypoint.time else None\n",
    "                })\n",
    "\n",
    "            for track in self.gpx_data.tracks:\n",
    "                track_data = {\n",
    "                    'name': track.name,\n",
    "                    'segments': []\n",
    "                }\n",
    "                for segment in track.segments:\n",
    "                    segment_data = []\n",
    "                    for point in segment.points:\n",
    "                        point_data = {\n",
    "                            'latitude': point.latitude,\n",
    "                            'longitude': point.longitude,\n",
    "                            'elevation': point.elevation,\n",
    "                            'time': point.time.isoformat() if point.time else None,\n",
    "                            'heart_rate': None # Initialize heart rate to None\n",
    "                        }\n",
    "                        # Extract heart rate from extensions\n",
    "                        for extension in point.extensions:\n",
    "                            if extension.tag == '{http://www.garmin.com/xmlschemas/TrackPointExtension/v1}TrackPointExtension':\n",
    "                                for child in extension:\n",
    "                                    if child.tag == '{http://www.garmin.com/xmlschemas/TrackPointExtension/v1}hr':\n",
    "                                        point_data['heart_rate'] = child.text\n",
    "                        segment_data.append(point_data)\n",
    "                    track_data['segments'].append(segment_data)\n",
    "                self.data['tracks'].append(track_data)\n",
    "\n",
    "            for route in self.gpx_data.routes:\n",
    "                route_data = {\n",
    "                    'name': route.name,\n",
    "                    'points': []\n",
    "                }\n",
    "                for point in route.points:\n",
    "                    route_data['points'].append({\n",
    "                        'latitude': point.latitude,\n",
    "                        'longitude': point.longitude,\n",
    "                        'elevation': point.elevation,\n",
    "                        'time': point.time.isoformat() if point.time else None\n",
    "                    })\n",
    "                self.data['routes'].append(route_data)\n",
    "\n",
    "    def convert_to_json(self, output_file):\n",
    "        with open(output_file, 'w') as json_file:\n",
    "            json.dump(self.data, json_file, indent=4)\n"
   ]
  },
  {
   "cell_type": "code",
   "execution_count": 6,
   "metadata": {},
   "outputs": [
    {
     "ename": "GPXXMLSyntaxException",
     "evalue": "Error parsing XML: not well-formed (invalid token): line 1, column 1",
     "output_type": "error",
     "traceback": [
      "\u001b[1;31m---------------------------------------------------------------------------\u001b[0m",
      "\u001b[1;31mParseError\u001b[0m                                Traceback (most recent call last)",
      "File \u001b[1;32mc:\\Users\\Johnny Orellana\\Documents\\P\\PythonScripts\\.venv\\lib\\site-packages\\gpxpy\\parser.py:134\u001b[0m, in \u001b[0;36mGPXParser.parse\u001b[1;34m(self, version)\u001b[0m\n\u001b[0;32m    133\u001b[0m     \u001b[38;5;28;01melse\u001b[39;00m:\n\u001b[1;32m--> 134\u001b[0m         root \u001b[38;5;241m=\u001b[39m \u001b[43mmod_etree\u001b[49m\u001b[38;5;241;43m.\u001b[39;49m\u001b[43mXML\u001b[49m\u001b[43m(\u001b[49m\u001b[38;5;28;43mself\u001b[39;49m\u001b[38;5;241;43m.\u001b[39;49m\u001b[43mxml\u001b[49m\u001b[43m)\u001b[49m\n\u001b[0;32m    135\u001b[0m \u001b[38;5;28;01mexcept\u001b[39;00m \u001b[38;5;167;01mException\u001b[39;00m \u001b[38;5;28;01mas\u001b[39;00m e:\n\u001b[0;32m    136\u001b[0m     \u001b[38;5;66;03m# The exception here can be a lxml or ElementTree exception.\u001b[39;00m\n",
      "File \u001b[1;32mC:\\Python39\\lib\\xml\\etree\\ElementTree.py:1347\u001b[0m, in \u001b[0;36mXML\u001b[1;34m(text, parser)\u001b[0m\n\u001b[0;32m   1346\u001b[0m     parser \u001b[38;5;241m=\u001b[39m XMLParser(target\u001b[38;5;241m=\u001b[39mTreeBuilder())\n\u001b[1;32m-> 1347\u001b[0m \u001b[43mparser\u001b[49m\u001b[38;5;241;43m.\u001b[39;49m\u001b[43mfeed\u001b[49m\u001b[43m(\u001b[49m\u001b[43mtext\u001b[49m\u001b[43m)\u001b[49m\n\u001b[0;32m   1348\u001b[0m \u001b[38;5;28;01mreturn\u001b[39;00m parser\u001b[38;5;241m.\u001b[39mclose()\n",
      "\u001b[1;31mParseError\u001b[0m: not well-formed (invalid token): line 1, column 1",
      "\nThe above exception was the direct cause of the following exception:\n",
      "\u001b[1;31mGPXXMLSyntaxException\u001b[0m                     Traceback (most recent call last)",
      "Cell \u001b[1;32mIn[6], line 1\u001b[0m\n\u001b[1;32m----> 1\u001b[0m converter \u001b[38;5;241m=\u001b[39m \u001b[43mGPXtoJSONConverter\u001b[49m\u001b[43m(\u001b[49m\u001b[38;5;124;43m\"\u001b[39;49m\u001b[38;5;124;43m./MarthonRun.gpx\u001b[39;49m\u001b[38;5;124;43m\"\u001b[39;49m\u001b[43m)\u001b[49m\n\u001b[0;32m      2\u001b[0m converter\u001b[38;5;241m.\u001b[39mextract_data()\n\u001b[0;32m      3\u001b[0m converter\u001b[38;5;241m.\u001b[39mconvert_to_json(\u001b[38;5;124m\"\u001b[39m\u001b[38;5;124mMarthonRun.json\u001b[39m\u001b[38;5;124m\"\u001b[39m)\n",
      "Cell \u001b[1;32mIn[5], line 8\u001b[0m, in \u001b[0;36mGPXtoJSONConverter.__init__\u001b[1;34m(self, gpx_file)\u001b[0m\n\u001b[0;32m      6\u001b[0m \u001b[38;5;28;01mdef\u001b[39;00m \u001b[38;5;21m__init__\u001b[39m(\u001b[38;5;28mself\u001b[39m, gpx_file):\n\u001b[0;32m      7\u001b[0m     \u001b[38;5;28mself\u001b[39m\u001b[38;5;241m.\u001b[39mgpx_file \u001b[38;5;241m=\u001b[39m gpx_file\n\u001b[1;32m----> 8\u001b[0m     \u001b[38;5;28mself\u001b[39m\u001b[38;5;241m.\u001b[39mgpx_data \u001b[38;5;241m=\u001b[39m \u001b[43mgpxpy\u001b[49m\u001b[38;5;241;43m.\u001b[39;49m\u001b[43mparse\u001b[49m\u001b[43m(\u001b[49m\u001b[43mgpx_file\u001b[49m\u001b[43m)\u001b[49m\n\u001b[0;32m      9\u001b[0m     \u001b[38;5;28mself\u001b[39m\u001b[38;5;241m.\u001b[39mdata \u001b[38;5;241m=\u001b[39m {\n\u001b[0;32m     10\u001b[0m         \u001b[38;5;124m'\u001b[39m\u001b[38;5;124mwaypoints\u001b[39m\u001b[38;5;124m'\u001b[39m:[],\n\u001b[0;32m     11\u001b[0m         \u001b[38;5;124m'\u001b[39m\u001b[38;5;124mtracks\u001b[39m\u001b[38;5;124m'\u001b[39m:[],\n\u001b[0;32m     12\u001b[0m         \u001b[38;5;124m'\u001b[39m\u001b[38;5;124mroutes\u001b[39m\u001b[38;5;124m'\u001b[39m:[]\n\u001b[0;32m     13\u001b[0m     }\n",
      "File \u001b[1;32mc:\\Users\\Johnny Orellana\\Documents\\P\\PythonScripts\\.venv\\lib\\site-packages\\gpxpy\\__init__.py:39\u001b[0m, in \u001b[0;36mparse\u001b[1;34m(xml_or_file, version)\u001b[0m\n\u001b[0;32m     35\u001b[0m \u001b[38;5;28;01mfrom\u001b[39;00m \u001b[38;5;21;01m.\u001b[39;00m \u001b[38;5;28;01mimport\u001b[39;00m parser \u001b[38;5;28;01mas\u001b[39;00m mod_parser\n\u001b[0;32m     37\u001b[0m parser \u001b[38;5;241m=\u001b[39m mod_parser\u001b[38;5;241m.\u001b[39mGPXParser(xml_or_file)\n\u001b[1;32m---> 39\u001b[0m \u001b[38;5;28;01mreturn\u001b[39;00m \u001b[43mparser\u001b[49m\u001b[38;5;241;43m.\u001b[39;49m\u001b[43mparse\u001b[49m\u001b[43m(\u001b[49m\u001b[43mversion\u001b[49m\u001b[43m)\u001b[49m\n",
      "File \u001b[1;32mc:\\Users\\Johnny Orellana\\Documents\\P\\PythonScripts\\.venv\\lib\\site-packages\\gpxpy\\parser.py:146\u001b[0m, in \u001b[0;36mGPXParser.parse\u001b[1;34m(self, version)\u001b[0m\n\u001b[0;32m    137\u001b[0m     log\u001b[38;5;241m.\u001b[39mdebug(\u001b[38;5;124m'\u001b[39m\u001b[38;5;124mError in:\u001b[39m\u001b[38;5;130;01m\\n\u001b[39;00m\u001b[38;5;132;01m%s\u001b[39;00m\u001b[38;5;130;01m\\n\u001b[39;00m\u001b[38;5;124m-----------\u001b[39m\u001b[38;5;130;01m\\n\u001b[39;00m\u001b[38;5;124m'\u001b[39m, \u001b[38;5;28mself\u001b[39m\u001b[38;5;241m.\u001b[39mxml, exc_info\u001b[38;5;241m=\u001b[39m\u001b[38;5;28;01mTrue\u001b[39;00m)\n\u001b[0;32m    139\u001b[0m     \u001b[38;5;66;03m# The library should work in the same way regardless of the\u001b[39;00m\n\u001b[0;32m    140\u001b[0m     \u001b[38;5;66;03m# underlying XML parser that's why the exception thrown\u001b[39;00m\n\u001b[0;32m    141\u001b[0m     \u001b[38;5;66;03m# here is GPXXMLSyntaxException (instead of simply throwing the\u001b[39;00m\n\u001b[1;32m   (...)\u001b[0m\n\u001b[0;32m    144\u001b[0m     \u001b[38;5;66;03m# But, if the user needs the original exception (lxml or ElementTree)\u001b[39;00m\n\u001b[0;32m    145\u001b[0m     \u001b[38;5;66;03m# it is available with GPXXMLSyntaxException.original_exception:\u001b[39;00m\n\u001b[1;32m--> 146\u001b[0m     \u001b[38;5;28;01mraise\u001b[39;00m mod_gpx\u001b[38;5;241m.\u001b[39mGPXXMLSyntaxException(\u001b[38;5;124mf\u001b[39m\u001b[38;5;124m'\u001b[39m\u001b[38;5;124mError parsing XML: \u001b[39m\u001b[38;5;132;01m{\u001b[39;00me\u001b[38;5;132;01m}\u001b[39;00m\u001b[38;5;124m'\u001b[39m, e)\n\u001b[0;32m    148\u001b[0m \u001b[38;5;28;01mif\u001b[39;00m root \u001b[38;5;129;01mis\u001b[39;00m \u001b[38;5;28;01mNone\u001b[39;00m:\n\u001b[0;32m    149\u001b[0m     \u001b[38;5;28;01mraise\u001b[39;00m mod_gpx\u001b[38;5;241m.\u001b[39mGPXException(\u001b[38;5;124m'\u001b[39m\u001b[38;5;124mDocument must have a `gpx` root node.\u001b[39m\u001b[38;5;124m'\u001b[39m)\n",
      "\u001b[1;31mGPXXMLSyntaxException\u001b[0m: Error parsing XML: not well-formed (invalid token): line 1, column 1"
     ]
    }
   ],
   "source": [
    "converter = GPXtoJSONConverter(\"./MarthonRun.gpx\")\n",
    "converter.extract_data()\n",
    "converter.convert_to_json(\"MarthonRun.json\")"
   ]
  }
 ],
 "metadata": {
  "kernelspec": {
   "display_name": ".venv",
   "language": "python",
   "name": "python3"
  },
  "language_info": {
   "codemirror_mode": {
    "name": "ipython",
    "version": 3
   },
   "file_extension": ".py",
   "mimetype": "text/x-python",
   "name": "python",
   "nbconvert_exporter": "python",
   "pygments_lexer": "ipython3",
   "version": "3.9.0"
  }
 },
 "nbformat": 4,
 "nbformat_minor": 2
}
